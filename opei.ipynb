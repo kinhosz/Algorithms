{
  "nbformat": 4,
  "nbformat_minor": 0,
  "metadata": {
    "colab": {
      "name": "Untitled0.ipynb",
      "provenance": [],
      "collapsed_sections": [],
      "authorship_tag": "ABX9TyNgOUw/lQllke9oEDXmeHq/",
      "include_colab_link": true
    },
    "kernelspec": {
      "name": "python3",
      "display_name": "Python 3"
    }
  },
  "cells": [
    {
      "cell_type": "markdown",
      "metadata": {
        "id": "view-in-github",
        "colab_type": "text"
      },
      "source": [
        "<a href=\"https://colab.research.google.com/github/kinhosz/Algorithms/blob/master/opei.ipynb\" target=\"_parent\"><img src=\"https://colab.research.google.com/assets/colab-badge.svg\" alt=\"Open In Colab\"/></a>"
      ]
    },
    {
      "cell_type": "markdown",
      "metadata": {
        "id": "Z4w45RG883ds"
      },
      "source": [
        "### Problema A\r\n",
        " **O problema é um dijkstra (ou bfs 0-1) no grid. Queremos minimizar a quantidade de mudança de direção. Criaremos um 'grafo implícito'. Para cada vértice (posição no grid) podemos:<br>**\r\n",
        "  *Ir para a célula da direita ou esquerda, se ela estiver dentro do grid e disponível*<br>\r\n",
        "  *Ir para a célua de baixo ou cima, se ela estiver disponível e dentro do grid*<br>\r\n",
        "  *Precisamos saber a direção que ele está, pois ela que vai nos informar se ele mudou ou não a direção*<br>\r\n",
        "  *Um vértice neste grafo implícito será definido pela sua posição (x,y) no grid e pela sua direção.*<br><br>\r\n",
        "\r\n",
        "  Este problema é parecido com um que a gente já resolveu: https://olimpiada.ic.unicamp.br/pratique/p1/2019/f3/linhas/ <br><br>\r\n",
        "  Solução: https://pastebin.com/KtXqnjcb <br><br>\r\n",
        "  Complexidade: $O((N*M*2)*Log(N*M*2))$\r\n"
      ]
    },
    {
      "cell_type": "markdown",
      "metadata": {
        "id": "kC9PaP9fKpYe"
      },
      "source": [
        "### Problema B\r\n",
        " **Existem duas soluções: uma clássica e uma mais simples.<br>**\r\n",
        "*A clássica consiste em aplicar o crivo de erastótenes, este algoritmo já dá todos os primos de 1 até N.<br>\r\n",
        "A outra solução é fazer um for de 2 até N, para cada número que a gente pegar no for, a gente verifica se ele é primo. Para testar se um número é primo, devemos fazer um outro for até a sua raiz, se não existir nenhum divisor, então o número que estamos verificando é primo.<br>*<br>\r\n",
        "\r\n",
        "Solução: https://pastebin.com/RChQqtqY <br>\r\n",
        "Complexidade: $O(N*sqrt(N))$"
      ]
    },
    {
      "cell_type": "markdown",
      "metadata": {
        "id": "ckUK-zt4NLFM"
      },
      "source": [
        "### Problema C\r\n",
        "**Para resolver este problema, devemos trabalhar com um vetor frequência para cada letra. Depois de criar o vetor frequência, teremos a seguinte situação:**<br>\r\n",
        "*Uma letra tem frequência ímpar*<br>\r\n",
        "*uma letra tem frequência par*<br><br>\r\n",
        "Para as letras com frequência ímpar, tiraremos uma letra dela e criaremos uma string só com esta letra (por definição, já se torna um palíndromo). Fazendo isso, a frequência daquela letra se tornará par.<br>\r\n",
        "Se a quantidade de strings acabar e ainda existirem letras com frequência ímpar, então é impossível formar o que se pede. Caso contrário, será possível.<br><br>\r\n",
        "Observe que não precisamos montar de fato as strings, só precisamos saber se é possível ou não. Vamos visualizar um exemplo:<br><br>\r\n",
        "$AAABBBCCCDDDD...5$<br>\r\n",
        "$string[0] = A$<br>\r\n",
        "$string[1] = B$<br>\r\n",
        "$string[2] = C$<br>\r\n",
        "$string[3] = D$<br>\r\n",
        "$string[4] = ABCDDDCBA$<br><br>\r\n",
        ".... ou seja, se a quantidade de letras é menor que a quantidade de strings: **impossível**.<br>\r\n",
        ".... se a quantidade de letras com frequência ímpar for maior que a quantidade de strings: **impossível**<br>\r\n",
        ".... possível em qualquer outros casos.<br><br>\r\n",
        "Solução: https://pastebin.com/DvQgjTev <br>\r\n",
        "Complexidade: $O(N)$"
      ]
    },
    {
      "cell_type": "markdown",
      "metadata": {
        "id": "KRaO2VIdT0eU"
      },
      "source": [
        "### Problema D\r\n",
        "Este parece ser mais um problema de grafos, né? Mas vamos pensar um pouco...<br>\r\n",
        "Imagine que você nadou o bastante e chegou na posição (x,y). X = linha, y = coluna. O que você pode fazer? *Ir para a direita (x,y+1), ir para a esquerda (x,y-1) ou ir para baixo (x+1,y).* Porém, você só pode ir para essas posições se, e somente se, você nunca foi nela antes (pq se não você já teria pegado todas as moedas). Isso parece ser uma bfs, mas... calma... toda vez iremos querer saber o seguinte: *qual a maior quantidade de moedas que consigo pegar saindo da posição (x,y) até o final?*. A gente já viu um problema parecido com esse, foi este aqui > https://neps.academy/problem/909. <br><br>\r\n",
        "Bom, sabemos que se fizermos só a busca completa com a bfs, deveremos calcular a resposta para a mesma pergunta várias e várias vezes, por isso, deveremos usar programação dinâmica (DP), utilizando uma tabelinha para salvar os valores já calculados. Os passo serão:<br>\r\n",
        "*Faz uma recursão para cada posição do grid, a resposta para a pergunta daquela célula será igual a: $dp[x][y] = moedas(x,y) + max(dp[vizinhos])$<br>\r\n",
        "ou seja, a quantidade de moedas que tem naquela célula mais a melhor resposta dos seus vizinhos. Por fim, a nossa resposta final será o máximo da DP de todas as colunas da primeira linha.*<br>\r\n",
        "**detalhe, precisamos saber qual foi a última célula visitada, para não visitá-la novamente.*"
      ]
    }
  ]
}